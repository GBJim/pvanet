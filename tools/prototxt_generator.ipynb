{
 "cells": [
  {
   "cell_type": "code",
   "execution_count": 2,
   "metadata": {},
   "outputs": [],
   "source": [
    "from jinja2 import Environment, FileSystemLoader, select_autoescape\n",
    "env = Environment(loader=FileSystemLoader('/'))\n",
    "train_template = \"root/pva-faster-rcnn/models/pvanet/lite/template_train.prototxt\" \n",
    "test_template = \"root/pva-faster-rcnn/models/pvanet/lite/template_test.prototxt\" \n",
    "solver_template = \"root/pva-faster-rcnn/models/pvanet/lite/template_solver.prototxt\" "
   ]
  },
  {
   "cell_type": "code",
   "execution_count": 3,
   "metadata": {},
   "outputs": [],
   "source": [
    "output_prefix = \"three\"\n",
    "num_classes = 3\n",
    "bbox_pred_name = \"bbox_pred-coco\"\n",
    "cls_score_name = \"cls_score-coco\""
   ]
  },
  {
   "cell_type": "code",
   "execution_count": 1,
   "metadata": {},
   "outputs": [],
   "source": [
    "#Generating Prototxt\n",
    "def generate_prototxt(template_path, output_name, num_classes, bbox_pred_name, cls_score_name):\n",
    "    output = env.get_template(template_path).render(num_classes= num_classes,\\\n",
    "                                                 bbox_pred_name=bbox_pred_name, cls_score_name=cls_score_name)\n",
    "    w = open(output_name, 'w')\n",
    "    w.write(output)\n",
    "    w.close()"
   ]
  },
  {
   "cell_type": "code",
   "execution_count": 11,
   "metadata": {},
   "outputs": [],
   "source": [
    "#Generating Training Prototxt\n",
    "train_path = \"/root/pva-faster-rcnn/models/pvanet/lite/{}_train.prototxt\".format(output_prefix)\n",
    "generate_prototxt(train_template, train_path, num_classes, bbox_pred_name, cls_score_name)\n",
    "\n",
    "#Generating Testing Prototxt\n",
    "test_path = \"/root/pva-faster-rcnn/models/pvanet/lite/{}_test.prototxt\".format(output_prefix)\n",
    "generate_prototxt(test_template, test_path, num_classes, bbox_pred_name, cls_score_name)\n",
    "\n",
    "#Generating Solver Prototxt\n",
    "sol#Generating Training Prototxt\n",
    "ver_path = \"/root/pva-faster-rcnn/models/pvanet/lite/{}_solver.prototxt\".format(output_prefix)\n",
    "generate_prototxt(solver_template, solver_path, num_classes, bbox_pred_name, cls_score_name)"
   ]
  }
 ],
 "metadata": {
  "kernelspec": {
   "display_name": "Python 2",
   "language": "python",
   "name": "python2"
  },
  "language_info": {
   "codemirror_mode": {
    "name": "ipython",
    "version": 2
   },
   "file_extension": ".py",
   "mimetype": "text/x-python",
   "name": "python",
   "nbconvert_exporter": "python",
   "pygments_lexer": "ipython2",
   "version": "2.7.6"
  }
 },
 "nbformat": 4,
 "nbformat_minor": 2
}
