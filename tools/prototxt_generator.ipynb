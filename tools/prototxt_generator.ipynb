{
 "cells": [
  {
   "cell_type": "code",
   "execution_count": 7,
   "metadata": {},
   "outputs": [],
   "source": [
    "from jinja2 import Environment, FileSystemLoader, select_autoescape\n",
    "env = Environment(loader=FileSystemLoader('/'))\n",
    "train_template = \"root/pva-faster-rcnn/models/pvanet/lite/template_train.prototxt\" \n",
    "test_template = \"root/pva-faster-rcnn/models/pvanet/lite/template_test.prototxt\" \n",
    "solver_template = \"root/pva-faster-rcnn/models/pvanet/lite/template_solver.prototxt\" "
   ]
  },
  {
   "cell_type": "code",
   "execution_count": 8,
   "metadata": {},
   "outputs": [],
   "source": [
    "output_prefix = \"three\"\n",
    "num_classes = 3\n",
    "bbox_pred_name = \"bbox_pred-coco\"\n",
    "cls_score_name = \"cls_score-coco\""
   ]
  },
  {
   "cell_type": "code",
   "execution_count": 9,
   "metadata": {},
   "outputs": [],
   "source": [
    "#Generating Training Prototxt\n",
    "train_path = \"/root/pva-faster-rcnn/models/pvanet/lite/{}_train.prototxt\".format(output_prefix)\n",
    "output = env.get_template(train_template).render(num_classes= num_classes,\\\n",
    "                                                 bbox_pred_name=bbox_pred_name, cls_score_name=cls_score_name)\n",
    "w = open(train_path, 'w')\n",
    "w.write(output)\n",
    "w.close()"
   ]
  },
  {
   "cell_type": "code",
   "execution_count": 10,
   "metadata": {},
   "outputs": [],
   "source": [
    "#Generating Testing Prototxt\n",
    "test_path = \"/root/pva-faster-rcnn/models/pvanet/lite/{}_test.prototxt\".format(output_prefix)\n",
    "output = env.get_template(test_template).render(num_classes= num_classes,\\\n",
    "                                                 bbox_pred_name=bbox_pred_name, cls_score_name=cls_score_name)\n",
    "w = open(test_path, 'w')\n",
    "w.write(output)\n",
    "w.close()"
   ]
  },
  {
   "cell_type": "code",
   "execution_count": 11,
   "metadata": {},
   "outputs": [],
   "source": [
    "#Generating Solver Prototxt\n",
    "solver_path = \"/root/pva-faster-rcnn/models/pvanet/lite/{}_solver.prototxt\".format(output_prefix)\n",
    "output = env.get_template(solver_template).render(train_path=train_path)\n",
    "w = open(solver_path, 'w')\n",
    "w.write(output)\n",
    "w.close()"
   ]
  },
  {
   "cell_type": "code",
   "execution_count": 6,
   "metadata": {},
   "outputs": [
    {
     "data": {
      "text/plain": [
       "'################################################################################\\n'"
      ]
     },
     "execution_count": 6,
     "metadata": {},
     "output_type": "execute_result"
    }
   ],
   "source": []
  },
  {
   "cell_type": "code",
   "execution_count": 17,
   "metadata": {},
   "outputs": [],
   "source": [
    "from jinja2 import Environment, FileSystemLoader, select_autoescape\n",
    "env = Environment(loader=FileSystemLoader('/'))\n",
    "train_template = \"root/pva-faster-rcnn/models/kai_train_pvanet_7cls/template_train.prototxt\" \n",
    "test_template = \"root/pva-faster-rcnn/models/kai_train_pvanet_7cls/template_test.prototxt\" \n",
    "solver_template = \"root/pva-faster-rcnn/models/kai_train_pvanet_7cls/template_solver.prototxt\""
   ]
  },
  {
   "cell_type": "code",
   "execution_count": 38,
   "metadata": {},
   "outputs": [],
   "source": [
    "output_prefix = \"21\"\n",
    "num_classes = 20\n",
    "bbox_pred_name = \"bbox_pred\"\n",
    "cls_score_name = \"cls_score\""
   ]
  },
  {
   "cell_type": "code",
   "execution_count": 39,
   "metadata": {},
   "outputs": [],
   "source": [
    "#Generating Training Prototxt\n",
    "train_path = \"/root/pva-faster-rcnn/models/kai_train_pvanet_7cls/{}_train.prototxt\".format(output_prefix)\n",
    "output = env.get_template(train_template).render(num_classes= num_classes,\\\n",
    "                                                 bbox_pred_name=bbox_pred_name, cls_score_name=cls_score_name)\n",
    "w = open(train_path, 'w')\n",
    "w.write(output)\n",
    "w.close()"
   ]
  },
  {
   "cell_type": "code",
   "execution_count": 40,
   "metadata": {},
   "outputs": [],
   "source": [
    "#Generating Testing Prototxt\n",
    "test_path = \"/root/pva-faster-rcnn/models/kai_train_pvanet_7cls/{}_test.prototxt\".format(output_prefix)\n",
    "output = env.get_template(test_template).render(num_classes= num_classes,\\\n",
    "                                                 bbox_pred_name=bbox_pred_name, cls_score_name=cls_score_name)\n",
    "w = open(test_path, 'w')\n",
    "w.write(output)\n",
    "w.close()"
   ]
  },
  {
   "cell_type": "code",
   "execution_count": 41,
   "metadata": {},
   "outputs": [],
   "source": [
    "#Generating Solver Prototxt\n",
    "solver_path = \"/root/pva-faster-rcnn/models/kai_train_pvanet_7cls/{}_solver.prototxt\".format(output_prefix)\n",
    "output = env.get_template(solver_template).render(train_path=train_path)\n",
    "w = open(solver_path, 'w')\n",
    "w.write(output)\n",
    "w.close()"
   ]
  },
  {
   "cell_type": "code",
   "execution_count": null,
   "metadata": {},
   "outputs": [],
   "source": []
  },
  {
   "cell_type": "code",
   "execution_count": null,
   "metadata": {},
   "outputs": [],
   "source": []
  },
  {
   "cell_type": "code",
   "execution_count": null,
   "metadata": {},
   "outputs": [],
   "source": []
  },
  {
   "cell_type": "code",
   "execution_count": null,
   "metadata": {},
   "outputs": [],
   "source": []
  }
 ],
 "metadata": {
  "kernelspec": {
   "display_name": "Python 2",
   "language": "python",
   "name": "python2"
  },
  "language_info": {
   "codemirror_mode": {
    "name": "ipython",
    "version": 2
   },
   "file_extension": ".py",
   "mimetype": "text/x-python",
   "name": "python",
   "nbconvert_exporter": "python",
   "pygments_lexer": "ipython2",
   "version": "2.7.6"
  }
 },
 "nbformat": 4,
 "nbformat_minor": 2
}
