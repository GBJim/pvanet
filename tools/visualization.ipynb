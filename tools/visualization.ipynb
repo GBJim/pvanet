{
 "cells": [
  {
   "cell_type": "code",
   "execution_count": null,
   "metadata": {
    "collapsed": true
   },
   "outputs": [],
   "source": [
    "%matplotlib inline\n",
    "import glob\n",
    "import _init_paths\n",
    "from fast_rcnn.config import cfg\n",
    "from utils.timer import Timer\n",
    "import matplotlib.pyplot as plt\n",
    "import numpy as np\n",
    "import scipy.io as sio\n",
    "import caffe, os, sys, cv2\n",
    "import argparse\n",
    "from fast_rcnn.config import cfg, cfg_from_file, cfg_from_list\n",
    "from datasets.config import CLASS_SETS\n",
    "from dev import dual_detect\n",
    "import time"
   ]
  },
  {
   "cell_type": "code",
   "execution_count": null,
   "metadata": {
    "collapsed": true
   },
   "outputs": [],
   "source": [
    "def visualization(img_path, outputs):\n",
    "    \"\"\"Draw detected bounding boxes.\"\"\"\n",
    "    im = cv2.imread(img_path)\n",
    "    im = im[:, :, (2, 1, 0)]\n",
    "    fig, ax = plt.subplots(figsize=(6, 6))\n",
    "    ax.imshow(im, aspect='equal')\n",
    "    \n",
    "    for output in outputs:\n",
    "      \n",
    "        ax.add_patch(\n",
    "            plt.Rectangle((output['xmin'], output['ymin']),\n",
    "                          output['xmax'] - output['xmin'],\n",
    "                          output['ymax'] - output['ymin'], fill=False,\n",
    "                          edgecolor='red', linewidth=3.5)\n",
    "            )\n",
    "        ax.text(output['xmin'], output['ymin'] - 2,\n",
    "                '{:s} {:.3f} , {:s} {:.3f}'.format(output[\"class\"], output[\"score\"]\\\n",
    "                                    ,output[\"sub\"]['class'], output[\"sub\"][\"score\"]),\n",
    "                bbox=dict(facecolor='blue', alpha=0.5),\n",
    "                fontsize=14, color='white')\n",
    "\n",
    "       \n",
    "    plt.axis('off')\n",
    "    plt.tight_layout()\n",
    "    plt.draw()    "
   ]
  },
  {
   "cell_type": "code",
   "execution_count": null,
   "metadata": {},
   "outputs": [],
   "source": [
    "cfg_from_file(\"../models/pvanet/cfgs/submit_160715.yml\")   \n",
    "prototxt_main = \"../models/pvanet/lite/coco_test.prototxt\"\n",
    "caffemodel_main = \"../models/rc1_iter_200000.caffemodel\"\n",
    "if not os.path.isfile(caffemodel_main):\n",
    "    raise IOError(('{:s} not found').format(caffemodel_main))                    \n",
    "\n",
    "prototxt_sub = \"../models/pvanet/lite/coco_test.prototxt\"\n",
    "caffemodel_sub = \"../models/rc1_iter_200000.caffemodel\"\n",
    "if not os.path.isfile(caffemodel_sub):\n",
    "    raise IOError(('{:s} not found').format(caffemodel_sub))                           \n",
    "\n",
    "\n",
    "net_main = caffe.Net(prototxt_main, caffemodel_main, caffe.TEST)    \n",
    "net_sub = caffe.Net(prototxt_sub, caffemodel_sub, caffe.TEST)\n",
    "GPU_ID = 0\n",
    "caffe.set_mode_gpu()\n",
    "caffe.set_device(GPU_ID)\n",
    "cfg.GPU_ID = GPU_ID \n",
    "\n",
    "CLASSES_main = CLASS_SETS['main']\n",
    "CLASSES_sub = CLASS_SETS['subordinate'] \n",
    "\n"
   ]
  },
  {
   "cell_type": "code",
   "execution_count": null,
   "metadata": {},
   "outputs": [],
   "source": [
    "test_imgs = glob.glob(\"../data/demo/*.jpg\")\n",
    "for test_img in test_imgs:\n",
    "    tic = time.time()\n",
    "    outputs = (dual_detect(net_main, net_sub, CLASSES_main, CLASSES_sub, test_img, IOU_THRESH=0.75))\n",
    "    #print(outputs)\n",
    "    visualization(test_img, outputs)\n",
    "    #print(toc-tic)"
   ]
  }
 ],
 "metadata": {
  "kernelspec": {
   "display_name": "Python 2",
   "language": "python",
   "name": "python2"
  },
  "language_info": {
   "codemirror_mode": {
    "name": "ipython",
    "version": 2
   },
   "file_extension": ".py",
   "mimetype": "text/x-python",
   "name": "python",
   "nbconvert_exporter": "python",
   "pygments_lexer": "ipython2",
   "version": "2.7.6"
  }
 },
 "nbformat": 4,
 "nbformat_minor": 2
}
